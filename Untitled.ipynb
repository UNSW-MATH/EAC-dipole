{
 "cells": [
  {
   "cell_type": "code",
   "execution_count": 1,
   "metadata": {},
   "outputs": [],
   "source": [
    "import xarray as xr"
   ]
  },
  {
   "cell_type": "code",
   "execution_count": 2,
   "metadata": {},
   "outputs": [],
   "source": [
    "fname = '/home/z3526974/Work/data/EAC_roms/EAC_roms_zeta_u_v.nc'\n",
    "ds = xr.open_dataset(fname)"
   ]
  },
  {
   "cell_type": "code",
   "execution_count": 3,
   "metadata": {},
   "outputs": [
    {
     "data": {
      "text/plain": [
       "<xarray.Dataset>\n",
       "Dimensions:     (eta_rho: 317, ocean_time: 8309, xi_rho: 272)\n",
       "Coordinates:\n",
       "    lon_rho     (eta_rho, xi_rho) float64 ...\n",
       "    lat_rho     (eta_rho, xi_rho) float64 ...\n",
       "  * ocean_time  (ocean_time) datetime64[ns] 1994-01-01T12:00:00 ... 2016-09-30T12:00:00\n",
       "Dimensions without coordinates: eta_rho, xi_rho\n",
       "Data variables:\n",
       "    zeta        (ocean_time, eta_rho, xi_rho) float32 ...\n",
       "Attributes:\n",
       "    CDI:               Climate Data Interface version 1.8.2 (http://mpimet.mp...\n",
       "    Conventions:       CF-1.4\n",
       "    history:           Thu Mar 28 16:49:09 2019: cdo select,name=zeta,u,v,lev...\n",
       "    file:              outer_avg.nc\n",
       "    format:            netCDF-3 classic file\n",
       "    type:              ROMS/TOMS averages file\n",
       "    title:             EAC OUTER GRID\n",
       "    rst_file:          outer_rst.nc\n",
       "    avg_file:          outer_avg.nc\n",
       "    grd_file:          /short/fu5/cgk561/eac/20year_freerun/grid/EACouter_var...\n",
       "    ini_file:          ini.nc\n",
       "    frc_file_01:       /short/fu5/cgk561/eac/20year_freerun/ncep/eac_ncep_199...\n",
       "    frc_file_02:       /short/fu5/cgk561/eac/20year_freerun/Qcorrection/qcorr...\n",
       "    bry_file:          /short/fu5/cgk561/eac/20year_freerun/bluelink/files/br...\n",
       "    script_file:       ocean.in\n",
       "    svn_url:           https:://myroms.org/svn/src\n",
       "    svn_rev:           exported\n",
       "    code_dir:          /home/561/cgk561/roms/src\n",
       "    header_dir:        /home/561/cgk561/eac/20year_freerun_NEW\n",
       "    header_file:       eac.h\n",
       "    os:                Linux\n",
       "    cpu:               x86_64\n",
       "    compiler_system:   ifort\n",
       "    compiler_command:  /apps/openmpi/wrapper/fortran/mpif90\n",
       "    compiler_flags:    -heap-arrays -fp-model precise -ip -O3 -free\n",
       "    tiling:            003x004\n",
       "    ana_file:          /home/561/cgk561/eac/20year_freerun_NEW/include/ana_bt...\n",
       "    CPP_options:       EAC, ANA_BSFLUX, ANA_BTFLUX, ASSUMED_SHAPE, AVERAGES, ...\n",
       "    CDO:               Climate Data Operators version 1.8.2 (http://mpimet.mp..."
      ]
     },
     "execution_count": 3,
     "metadata": {},
     "output_type": "execute_result"
    }
   ],
   "source": [
    "ds"
   ]
  },
  {
   "cell_type": "code",
   "execution_count": null,
   "metadata": {},
   "outputs": [],
   "source": []
  }
 ],
 "metadata": {
  "kernelspec": {
   "display_name": "Python 2",
   "language": "python",
   "name": "python2"
  },
  "language_info": {
   "codemirror_mode": {
    "name": "ipython",
    "version": 2
   },
   "file_extension": ".py",
   "mimetype": "text/x-python",
   "name": "python",
   "nbconvert_exporter": "python",
   "pygments_lexer": "ipython2",
   "version": "2.7.15"
  },
  "varInspector": {
   "cols": {
    "lenName": 16,
    "lenType": 16,
    "lenVar": 40
   },
   "kernels_config": {
    "python": {
     "delete_cmd_postfix": "",
     "delete_cmd_prefix": "del ",
     "library": "var_list.py",
     "varRefreshCmd": "print(var_dic_list())"
    },
    "r": {
     "delete_cmd_postfix": ") ",
     "delete_cmd_prefix": "rm(",
     "library": "var_list.r",
     "varRefreshCmd": "cat(var_dic_list()) "
    }
   },
   "types_to_exclude": [
    "module",
    "function",
    "builtin_function_or_method",
    "instance",
    "_Feature"
   ],
   "window_display": false
  }
 },
 "nbformat": 4,
 "nbformat_minor": 2
}
